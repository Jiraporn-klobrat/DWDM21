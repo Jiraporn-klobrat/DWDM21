{
  "nbformat": 4,
  "nbformat_minor": 0,
  "metadata": {
    "colab": {
      "name": "Distance Numpy.ipynb",
      "provenance": [],
      "authorship_tag": "ABX9TyM3HBcxFBJQWfeOgOR1fmkC",
      "include_colab_link": true
    },
    "kernelspec": {
      "name": "python3",
      "display_name": "Python 3"
    },
    "language_info": {
      "name": "python"
    }
  },
  "cells": [
    {
      "cell_type": "markdown",
      "metadata": {
        "id": "view-in-github",
        "colab_type": "text"
      },
      "source": [
        "<a href=\"https://colab.research.google.com/github/Jiraporn-klobrat/DWDM21/blob/main/Distance_Numpy.ipynb\" target=\"_parent\"><img src=\"https://colab.research.google.com/assets/colab-badge.svg\" alt=\"Open In Colab\"/></a>"
      ]
    },
    {
      "cell_type": "code",
      "metadata": {
        "id": "Ff_1am-BdFi6"
      },
      "source": [
        "import numpy as np        # package สำหรับทำงานกับข้อมูลที่เป็นตัวเลข (อยู่ในรูปแบบ matrix)"
      ],
      "execution_count": 3,
      "outputs": []
    },
    {
      "cell_type": "markdown",
      "metadata": {
        "id": "PgEa-L_xdqvE"
      },
      "source": [
        "# Numpy array"
      ]
    },
    {
      "cell_type": "markdown",
      "metadata": {
        "id": "UI6ntoHzdufD"
      },
      "source": [
        "## สร้าง numpy array"
      ]
    },
    {
      "cell_type": "code",
      "metadata": {
        "id": "bpknzsCjd982"
      },
      "source": [
        "np_a = np.array([[1,2,3],[4,5,6]])     # สร้าง numpy array ที่มี 2 แถว 3 หลัก"
      ],
      "execution_count": 6,
      "outputs": []
    },
    {
      "cell_type": "code",
      "metadata": {
        "colab": {
          "base_uri": "https://localhost:8080/"
        },
        "id": "BNCAY4OmeQ7N",
        "outputId": "91a4a7f5-332a-44a5-c0d0-bd755f159055"
      },
      "source": [
        "np_a"
      ],
      "execution_count": 7,
      "outputs": [
        {
          "output_type": "execute_result",
          "data": {
            "text/plain": [
              "array([[1, 2, 3],\n",
              "       [4, 5, 6]])"
            ]
          },
          "metadata": {},
          "execution_count": 7
        }
      ]
    },
    {
      "cell_type": "code",
      "metadata": {
        "colab": {
          "base_uri": "https://localhost:8080/"
        },
        "id": "eC_uCxhheSaj",
        "outputId": "5e3f8734-8e07-4a40-b414-200a6cb9a10e"
      },
      "source": [
        "np_a.shape"
      ],
      "execution_count": 8,
      "outputs": [
        {
          "output_type": "execute_result",
          "data": {
            "text/plain": [
              "(2, 3)"
            ]
          },
          "metadata": {},
          "execution_count": 8
        }
      ]
    },
    {
      "cell_type": "code",
      "metadata": {
        "colab": {
          "base_uri": "https://localhost:8080/"
        },
        "id": "sAOBSgNceiEF",
        "outputId": "4ff809fa-16c9-411e-d5d4-ef42a69f7c1b"
      },
      "source": [
        "np_b = np.array([[1,4],[2,5],[3,6]])\n",
        "np_b"
      ],
      "execution_count": 9,
      "outputs": [
        {
          "output_type": "execute_result",
          "data": {
            "text/plain": [
              "array([[1, 4],\n",
              "       [2, 5],\n",
              "       [3, 6]])"
            ]
          },
          "metadata": {},
          "execution_count": 9
        }
      ]
    },
    {
      "cell_type": "markdown",
      "metadata": {
        "id": "BXmp7Wrgevcp"
      },
      "source": [
        "## matrix transpose"
      ]
    },
    {
      "cell_type": "code",
      "metadata": {
        "colab": {
          "base_uri": "https://localhost:8080/"
        },
        "id": "LqOkBhwqes_d",
        "outputId": "fb8f40eb-2ea6-4a54-ad99-ad6fd48e9236"
      },
      "source": [
        "np_a.T"
      ],
      "execution_count": 10,
      "outputs": [
        {
          "output_type": "execute_result",
          "data": {
            "text/plain": [
              "array([[1, 4],\n",
              "       [2, 5],\n",
              "       [3, 6]])"
            ]
          },
          "metadata": {},
          "execution_count": 10
        }
      ]
    },
    {
      "cell_type": "markdown",
      "metadata": {
        "id": "31Qftmf-e67F"
      },
      "source": [
        "## สร้าง matrix เริ่มต้น (zeros, ones)"
      ]
    },
    {
      "cell_type": "code",
      "metadata": {
        "colab": {
          "base_uri": "https://localhost:8080/"
        },
        "id": "b-lKgQx2e072",
        "outputId": "830f28c9-328e-4085-d015-5e642dedca58"
      },
      "source": [
        "np_z = np.zeros((4,5))\n",
        "np_z"
      ],
      "execution_count": 11,
      "outputs": [
        {
          "output_type": "execute_result",
          "data": {
            "text/plain": [
              "array([[0., 0., 0., 0., 0.],\n",
              "       [0., 0., 0., 0., 0.],\n",
              "       [0., 0., 0., 0., 0.],\n",
              "       [0., 0., 0., 0., 0.]])"
            ]
          },
          "metadata": {},
          "execution_count": 11
        }
      ]
    },
    {
      "cell_type": "code",
      "metadata": {
        "colab": {
          "base_uri": "https://localhost:8080/"
        },
        "id": "LHtgOZRLfehu",
        "outputId": "21759b1f-3029-4d1e-faa6-f44900f43dd3"
      },
      "source": [
        "np_o = np.ones((5,6))\n",
        "np_o"
      ],
      "execution_count": 12,
      "outputs": [
        {
          "output_type": "execute_result",
          "data": {
            "text/plain": [
              "array([[1., 1., 1., 1., 1., 1.],\n",
              "       [1., 1., 1., 1., 1., 1.],\n",
              "       [1., 1., 1., 1., 1., 1.],\n",
              "       [1., 1., 1., 1., 1., 1.],\n",
              "       [1., 1., 1., 1., 1., 1.]])"
            ]
          },
          "metadata": {},
          "execution_count": 12
        }
      ]
    },
    {
      "cell_type": "code",
      "metadata": {
        "colab": {
          "base_uri": "https://localhost:8080/"
        },
        "id": "x1dihgG8fpTv",
        "outputId": "f8212f67-fe2f-4ef1-cd60-31e81d68c5eb"
      },
      "source": [
        "np_200 = 200 * np.ones((4,7))\n",
        "np_200"
      ],
      "execution_count": 13,
      "outputs": [
        {
          "output_type": "execute_result",
          "data": {
            "text/plain": [
              "array([[200., 200., 200., 200., 200., 200., 200.],\n",
              "       [200., 200., 200., 200., 200., 200., 200.],\n",
              "       [200., 200., 200., 200., 200., 200., 200.],\n",
              "       [200., 200., 200., 200., 200., 200., 200.]])"
            ]
          },
          "metadata": {},
          "execution_count": 13
        }
      ]
    },
    {
      "cell_type": "markdown",
      "metadata": {
        "id": "hoint1QOgnY4"
      },
      "source": [
        "## สร้าง matrix random"
      ]
    },
    {
      "cell_type": "code",
      "metadata": {
        "colab": {
          "base_uri": "https://localhost:8080/"
        },
        "id": "7AErAp7mglP1",
        "outputId": "37f75b01-cbb5-4650-f7a5-192fdf17b8eb"
      },
      "source": [
        "np.random.randn(5,5)     #random เลขมาจาก normal distribution ที่มี mu=0 std=1"
      ],
      "execution_count": 14,
      "outputs": [
        {
          "output_type": "execute_result",
          "data": {
            "text/plain": [
              "array([[ 1.52585454, -0.6260226 ,  0.58135411, -0.27529867,  0.7910865 ],\n",
              "       [ 0.10548909, -0.59334009,  0.12613143,  1.43553474, -0.53869284],\n",
              "       [-0.51524489, -0.18533808, -0.51119166, -0.08353316, -0.84631899],\n",
              "       [ 0.65860196,  1.22661932, -1.0023332 ,  0.14547338, -0.66876713],\n",
              "       [-0.67061856, -0.80649203, -0.13158053, -1.186369  , -0.23148734]])"
            ]
          },
          "metadata": {},
          "execution_count": 14
        }
      ]
    },
    {
      "cell_type": "code",
      "metadata": {
        "colab": {
          "base_uri": "https://localhost:8080/"
        },
        "id": "YA4Vn9FYhEXU",
        "outputId": "8d4a80ad-7f26-4153-e20b-e18766a72fb6"
      },
      "source": [
        "2*(5*np.random.randn(3,3))     #random เลขมาจาก normal distribution ที่มี mu=2 std=5"
      ],
      "execution_count": 15,
      "outputs": [
        {
          "output_type": "execute_result",
          "data": {
            "text/plain": [
              "array([[  1.22495392,  17.56693345, -12.07544318],\n",
              "       [  0.1161992 ,  -2.46460943,   6.64152533],\n",
              "       [-11.61597761, -16.44863151,  -2.01155662]])"
            ]
          },
          "metadata": {},
          "execution_count": 15
        }
      ]
    },
    {
      "cell_type": "code",
      "metadata": {
        "colab": {
          "base_uri": "https://localhost:8080/"
        },
        "id": "jk6LYhKDhSt7",
        "outputId": "d85abe6a-bbc4-48e3-f833-756041e642ce"
      },
      "source": [
        "np.random.randint(5,11,(4,5))     # random เลขจำนวนเต็ม ระหว่าง (5,11) ขนาด (4x5)"
      ],
      "execution_count": 16,
      "outputs": [
        {
          "output_type": "execute_result",
          "data": {
            "text/plain": [
              "array([[ 5,  8,  8,  6,  6],\n",
              "       [ 6, 10,  6,  9,  7],\n",
              "       [10, 10, 10,  7,  5],\n",
              "       [ 5,  6,  9, 10,  9]])"
            ]
          },
          "metadata": {},
          "execution_count": 16
        }
      ]
    },
    {
      "cell_type": "code",
      "metadata": {
        "id": "RX-2VrUghhMd"
      },
      "source": [
        ""
      ],
      "execution_count": null,
      "outputs": []
    }
  ]
}